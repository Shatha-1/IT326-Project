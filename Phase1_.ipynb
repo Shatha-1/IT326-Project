{
  "nbformat": 4,
  "nbformat_minor": 0,
  "metadata": {
    "colab": {
      "provenance": [],
      "mount_file_id": "1uEbVzvOf8nuSvtLdlfZl9cYR8bGhT5hm",
      "authorship_tag": "ABX9TyPYt8s7KFU9i6jdJjkm3fE9",
      "include_colab_link": true
    },
    "kernelspec": {
      "name": "python3",
      "display_name": "Python 3"
    },
    "language_info": {
      "name": "python"
    }
  },
  "cells": [
    {
      "cell_type": "markdown",
      "metadata": {
        "id": "view-in-github",
        "colab_type": "text"
      },
      "source": [
        "<a href=\"https://colab.research.google.com/github/Shatha-1/IT326-Project/blob/main/Phase1_.ipynb\" target=\"_parent\"><img src=\"https://colab.research.google.com/assets/colab-badge.svg\" alt=\"Open In Colab\"/></a>"
      ]
    },
    {
      "cell_type": "code",
      "source": [
        "import kagglehub\n",
        "import pandas as pd\n",
        "import os\n",
        "\n",
        "\n",
        "path = kagglehub.dataset_download(\"ikynahidwin/depression-student-dataset\")\n",
        "\n",
        "\n",
        "print(\" Path to dataset files:\", path)\n",
        "\n",
        "\n",
        "print(\" Files in the downloaded directory:\", os.listdir(path))\n",
        "\n",
        "\n",
        "dataset_path = os.path.join(path, 'Depression Student Dataset.csv')\n",
        "\n",
        "\n",
        "try:\n",
        "    data = pd.read_csv(dataset_path)\n",
        "\n",
        "\n",
        "    def describe_dataset():\n",
        "        print(\" Project Goal:\")\n",
        "        print(\"The goal of this dataset is to analyze and classify depression status among students \"\n",
        "              \"based on lifestyle and academic-related attributes such as sleep, diet, study workload, \"\n",
        "              \"academic pressure, and family history.\")\n",
        "\n",
        "        print(\"\\n Dataset Source:\")\n",
        "        print(\"Name: Depression Student Dataset\")\n",
        "        print(\"Host: Kaggle\")\n",
        "        print(\"Link: https://www.kaggle.com/datasets/ikynahidwin/depression-student-dataset\")\n",
        "\n",
        "        print(\"\\n General Information about the Dataset:\")\n",
        "        print(f\"Number of objects (rows): {data.shape[0]}\")\n",
        "        print(f\"Number of attributes (columns): {data.shape[1]}\")\n",
        "\n",
        "        print(\"\\nAttributes and their data types:\")\n",
        "        print(data.dtypes)\n",
        "\n",
        "        print(\"\\n Class Attribute:\")\n",
        "        class_label_column = \"Depression\"\n",
        "        if class_label_column in data.columns:\n",
        "            print(f\"The class label is: {class_label_column}\")\n",
        "            print(\"Number of instances in each class:\")\n",
        "            print(data[class_label_column].value_counts())\n",
        "        else:\n",
        "            print(f\"The column '{class_label_column}' does not exist. Please check the column name.\")\n",
        "\n",
        "        print(\"\\n Sample of the dataset:\")\n",
        "        print(data.head())\n",
        "\n",
        "\n",
        "    describe_dataset()\n",
        "\n",
        "except FileNotFoundError:\n",
        "    print(f\" Could not find the dataset at: {dataset_path}. Please check the file name and path.\")\n"
      ],
      "metadata": {
        "colab": {
          "base_uri": "https://localhost:8080/"
        },
        "id": "XzYWSFU5f5rh",
        "outputId": "5adfe002-0faf-4135-9a7c-8b5b31b70b6b"
      },
      "execution_count": 1,
      "outputs": [
        {
          "output_type": "stream",
          "name": "stdout",
          "text": [
            "Downloading from https://www.kaggle.com/api/v1/datasets/download/ikynahidwin/depression-student-dataset?dataset_version_number=1...\n"
          ]
        },
        {
          "output_type": "stream",
          "name": "stderr",
          "text": [
            "100%|██████████| 4.25k/4.25k [00:00<00:00, 5.55MB/s]"
          ]
        },
        {
          "output_type": "stream",
          "name": "stdout",
          "text": [
            "Extracting files...\n",
            " Path to dataset files: /root/.cache/kagglehub/datasets/ikynahidwin/depression-student-dataset/versions/1\n",
            " Files in the downloaded directory: ['Depression Student Dataset.csv']\n",
            " Project Goal:\n",
            "The goal of this dataset is to analyze and classify depression status among students based on lifestyle and academic-related attributes such as sleep, diet, study workload, academic pressure, and family history.\n",
            "\n",
            " Dataset Source:\n",
            "Name: Depression Student Dataset\n",
            "Host: Kaggle\n",
            "Link: https://www.kaggle.com/datasets/ikynahidwin/depression-student-dataset\n",
            "\n",
            " General Information about the Dataset:\n",
            "Number of objects (rows): 502\n",
            "Number of attributes (columns): 11\n",
            "\n",
            "Attributes and their data types:\n",
            "Gender                                    object\n",
            "Age                                        int64\n",
            "Academic Pressure                        float64\n",
            "Study Satisfaction                       float64\n",
            "Sleep Duration                            object\n",
            "Dietary Habits                            object\n",
            "Have you ever had suicidal thoughts ?     object\n",
            "Study Hours                                int64\n",
            "Financial Stress                           int64\n",
            "Family History of Mental Illness          object\n",
            "Depression                                object\n",
            "dtype: object\n",
            "\n",
            " Class Attribute:\n",
            "The class label is: Depression\n",
            "Number of instances in each class:\n",
            "Depression\n",
            "Yes    252\n",
            "No     250\n",
            "Name: count, dtype: int64\n",
            "\n",
            " Sample of the dataset:\n",
            "   Gender  Age  Academic Pressure  Study Satisfaction     Sleep Duration  \\\n",
            "0    Male   28                2.0                 4.0          7-8 hours   \n",
            "1    Male   28                4.0                 5.0          5-6 hours   \n",
            "2    Male   25                1.0                 3.0          5-6 hours   \n",
            "3    Male   23                1.0                 4.0  More than 8 hours   \n",
            "4  Female   31                1.0                 5.0  More than 8 hours   \n",
            "\n",
            "  Dietary Habits Have you ever had suicidal thoughts ?  Study Hours  \\\n",
            "0       Moderate                                   Yes            9   \n",
            "1        Healthy                                   Yes            7   \n",
            "2      Unhealthy                                   Yes           10   \n",
            "3      Unhealthy                                   Yes            7   \n",
            "4        Healthy                                   Yes            4   \n",
            "\n",
            "   Financial Stress Family History of Mental Illness Depression  \n",
            "0                 2                              Yes         No  \n",
            "1                 1                              Yes         No  \n",
            "2                 4                               No        Yes  \n",
            "3                 2                              Yes         No  \n",
            "4                 2                              Yes         No  \n"
          ]
        },
        {
          "output_type": "stream",
          "name": "stderr",
          "text": [
            "\n"
          ]
        }
      ]
    }
  ]
}
