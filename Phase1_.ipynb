{
  "nbformat": 4,
  "nbformat_minor": 0,
  "metadata": {
    "colab": {
      "provenance": []
    },
    "kernelspec": {
      "name": "python3",
      "display_name": "Python 3"
    },
    "language_info": {
      "name": "python"
    }
  },
  "cells": [
    {
      "cell_type": "markdown",
      "source": [],
      "metadata": {
        "id": "UWzgSlX2qVu0"
      }
    },
    {
      "cell_type": "markdown",
      "source": [
        "# 🎯 Project Goal\n",
        "\n",
        "The goal of this project is to **apply data mining techniques to identify and classify depression status among students** based on lifestyle and academic-related factors (such as sleep, diet, and study workload).  \n",
        "\n",
        "We aim to:\n",
        "- Explore and preprocess the dataset.  \n",
        "- Apply different supervised classification techniques (e.g., Logistic Regression, Random Forest, XGBoost).  \n",
        "- Compare model performance using metrics such as F1-score and ROC-AUC.  \n",
        "- Discuss the findings and highlight the most significant features influencing depression status.  \n",
        "\n",
        "**Why this matters:?**  \n",
        "Early identification of depression risk among students can help universities provide better support and interventions to improve wellbeing and academic success.\n",
        "\n",
        "\n",
        "\n",
        "\n"
      ],
      "metadata": {
        "id": "yYv2mJ19qiy5"
      }
    },
    {
      "cell_type": "markdown",
      "source": [
        "# 📦 Dataset Source\n",
        "\n",
        "**Name:** Depression Student Dataset  \n",
        "**Host:** Kaggle  \n",
        "**Link:** [Depression Student Dataset on Kaggle](https://www.kaggle.com/datasets/ikynahidwin/depression-student-dataset/data)  \n",
        "\n",
        "This dataset focuses on detecting depression status among students using lifestyle and academic-related attributes (such as sleep quality, diet, and workload). It is suitable for supervised classification tasks and for comparing multiple models.  \n",
        "\n",
        "**Reference (research context):**  \n",
        "Xu et al. (2021). *Leveraging Collaborative-Filtering for Personalized Behavior Modeling: A Case Study of Depression Detection among College Students*. IMWUT 2021. DOI: [10.1145/3448107](https://dl.acm.org/doi/10.1145/3448107)\n"
      ],
      "metadata": {
        "id": "SlCOLAh0Ea0F"
      }
    }
  ]
}